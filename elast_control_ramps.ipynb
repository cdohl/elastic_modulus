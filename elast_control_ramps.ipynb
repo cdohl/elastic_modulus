{
 "cells": [
  {
   "cell_type": "code",
   "execution_count": 1,
   "metadata": {},
   "outputs": [],
   "source": [
    "from ipywidgets import widgets\n",
    "from ipywidgets import Layout\n",
    "from IPython import display\n",
    "\n",
    "import numpy as np\n",
    "import serial\n",
    "import time\n",
    "import sys\n",
    "import glob\n",
    "import io\n",
    "\n",
    "ramps=False\n",
    "\n",
    "def serial_ports():\n",
    "    if sys.platform.startswith('win'):\n",
    "        ports = ['COM%s' % (i + 1) for i in range(256)]\n",
    "    elif sys.platform.startswith('linux') or sys.platform.startswith('cygwin'):\n",
    "        # this excludes your current terminal \"/dev/tty\"\n",
    "        ports = glob.glob('/dev/tty[A-Za-z]*')\n",
    "    elif sys.platform.startswith('darwin'):\n",
    "        ports = glob.glob('/dev/tty.*')\n",
    "    else:\n",
    "        raise EnvironmentError('Unsupported platform')\n",
    "\n",
    "    result = []\n",
    "    for port in ports:\n",
    "        try:\n",
    "            s = serial.Serial(port)\n",
    "            s.close()\n",
    "            result.append(port)\n",
    "        except (OSError, serial.SerialException):\n",
    "            pass\n",
    "    return result\n",
    "\n",
    "def send_printer_ramps(cmd='', show=False):\n",
    "    global ser_p\n",
    "\n",
    "    ser_p.write(cmd)\n",
    "    out=ser_p.readline()\n",
    "    if out != '':\n",
    "        if show:\n",
    "            print(out)\n",
    "    return out\n",
    "\n",
    "def send_printer_marlin(cmd='', show=False):\n",
    "    global ser_p\n",
    "    \n",
    "    if not cmd == '':\n",
    "        ser_p.flushInput()\n",
    "        ser_p.write(cmd)\n",
    "        out = ser_p.readline().strip();\n",
    "    if show:\n",
    "        print(out)\n",
    "    return out\n",
    "\n",
    "def printer_init_marlin():\n",
    "    global ser_p\n",
    "    ser_p.write(b'G0\\n')\n",
    "    out=ser_p.readline().strip()\n",
    "    while (out != b'ok'):\n",
    "        ser_p.write(b'G0\\n')\n",
    "        out=ser_p.readline().strip()\n",
    "    \n",
    "def print_parser(cmdlines):\n",
    "    for line in cmdlines.split(';'):\n",
    "        if not (line== ''):\n",
    "            out=(line+'\\n').encode()\n",
    "            if ramps:\n",
    "                send_printer_ramps(out)\n",
    "            else:\n",
    "                send_printer_marlin(out)\n",
    "\n",
    "def read_scale(n):\n",
    "    ser_s.flushInput()\n",
    "    res=[ser_s.readline() for i in range(n)]\n",
    "    return [float(res[i].decode()) for i in range(len(res))]\n",
    "\n",
    "def read_scale_times(t_s=1.):\n",
    "    res=[]\n",
    "    res_t=[]\n",
    "    ser_s.flushInput()\n",
    "    start = time.time()\n",
    "\n",
    "    while (time.time()-start<=t_s):\n",
    "        res.append(ser_s.readline())\n",
    "        res_t.append(time.time()-start)\n",
    "    res=[float(res[i].decode()) for i in range(len(res))]\n",
    "    \n",
    "    return res,res_t\n",
    "    "
   ]
  },
  {
   "cell_type": "code",
   "execution_count": 12,
   "metadata": {
    "scrolled": false
   },
   "outputs": [
    {
     "data": {
      "application/vnd.jupyter.widget-view+json": {
       "model_id": "ffbb4a9da1364d0faa93e6dccff59e55",
       "version_major": 2,
       "version_minor": 0
      },
      "text/plain": [
       "HBox(children=(VBox(children=(Dropdown(description='Scale:', index=2, options=('/dev/ttyUSB1', '/dev/ttyUSB0',…"
      ]
     },
     "metadata": {},
     "output_type": "display_data"
    },
    {
     "data": {
      "application/vnd.jupyter.widget-view+json": {
       "model_id": "bd9b5037d4c848178971a87aba008b46",
       "version_major": 2,
       "version_minor": 0
      },
      "text/plain": [
       "HBox(children=(VBox(children=(Button(button_style='warning', description='Up 5 mm', style=ButtonStyle()), Butt…"
      ]
     },
     "metadata": {},
     "output_type": "display_data"
    },
    {
     "data": {
      "application/vnd.jupyter.widget-view+json": {
       "model_id": "104d203c61624f108a44da4f92cf0044",
       "version_major": 2,
       "version_minor": 0
      },
      "text/plain": [
       "HBox(children=(VBox(children=(Button(button_style='danger', description='Start Measurment', style=ButtonStyle(…"
      ]
     },
     "metadata": {},
     "output_type": "display_data"
    },
    {
     "data": {
      "application/vnd.jupyter.widget-view+json": {
       "model_id": "c97bdba0a0424b1d8101ecf348eaa4b5",
       "version_major": 2,
       "version_minor": 0
      },
      "text/plain": [
       "Output()"
      ]
     },
     "metadata": {},
     "output_type": "display_data"
    }
   ],
   "source": [
    "%matplotlib inline\n",
    "import threading\n",
    "import matplotlib.pyplot as plt\n",
    "from scipy.signal import find_peaks\n",
    "import scipy.integrate as integrate\n",
    "import pickle\n",
    "\n",
    "g=9.81\n",
    "obj_h=23. #height in mm\n",
    "obj_A=np.pi*(13e-3)**2 #Area in m2\n",
    "delta0=2.5 #initial displacement in mm\n",
    "nn=10\n",
    "rate=0.5\n",
    "deltaz=1.5\n",
    "\n",
    "    \n",
    "if ramps:\n",
    "    bspeed=140\n",
    "else:\n",
    "    bspeed=87\n",
    "\n",
    "def start_measurement(b):\n",
    "    global xdata,ydata, xnp, ynp\n",
    "    deltaz=w_deltaz.value\n",
    "    nn=w_nn.value\n",
    "    rate=w_rate.value\n",
    "    speed=w_bspeed.value*rate\n",
    "\n",
    "    if ~ramps:\n",
    "        send_printer_marlin('G1 F{:d}\\r\\n'.format(int(speed*deltaz)).encode())\n",
    "\n",
    "    #generate G-code to send to printer\n",
    "    cmd=''\n",
    "    for i in range(nn):\n",
    "        if ramps:\n",
    "            cmd +='$J=G91 Z{:4.1f}F{:4.0f};'.format(-deltaz, speed)\n",
    "            cmd +='$J=G91 Z{:4.1f}F{:4.0f};'.format(deltaz, speed)\n",
    "        else:\n",
    "            cmd +='G0 Z{:4.1f};'.format(-deltaz)\n",
    "            cmd +='G0 Z{:4.1f};'.format(deltaz)\n",
    "\n",
    "    ser_s.write(b'*')  #Tare the scale\n",
    "    ser_s.flushOutput()\n",
    "\n",
    "    time.sleep(2) #stabilize the scale\n",
    "\n",
    "    pt = threading.Thread(target=print_parser, args=(cmd,))\n",
    "    pt.start()\n",
    "\n",
    "    ydata,xdata=read_scale_times(nn*deltaz/rate)\n",
    "    xnp=np.array(xdata,dtype=np.float32)\n",
    "    ynp=np.array(ydata,dtype=np.float32)\n",
    "\n",
    "    update_plot()\n",
    "\n",
    "def update_plot():\n",
    "    global peaks, xnp, ynp\n",
    "    \n",
    "    peaks, _ = find_peaks(ydata, height=ynp.max()/2., distance=len(ydata)/2./nn)\n",
    "    with out1:\n",
    "        out1.clear_output(True)\n",
    "        plt.plot(xnp, ynp)\n",
    "        for i in range(len(peaks)):\n",
    "            plt.text(xnp[peaks[i]], ynp[peaks[i]],str(i))\n",
    "        plt.show()\n",
    "\n",
    "def analyse(b):\n",
    "    global g,obj_h,obj_A,delta0,peaks\n",
    "\n",
    "    peak_i=w_sel_peak.value #peak position to analyse\n",
    "\n",
    "\n",
    "    down_start_index=int(peaks[peak_i]+(peaks[peak_i+1]-peaks[peak_i])/2.)#find down start index\n",
    "    down_end_index=peaks[peak_i+1]\n",
    "    up_start_index=peaks[peak_i]\n",
    "    down_stroke=ynp[down_start_index:down_end_index]\n",
    "    up_stroke=ynp[up_start_index:down_start_index-1]\n",
    "    down_pos=np.linspace(0,deltaz,len(down_stroke))\n",
    "    up_pos=deltaz-np.linspace(0,deltaz,len(up_stroke))\n",
    "    ### Calculate strain \n",
    "    max_strain,_ = integrate.quad(lambda xx: -1./xx, obj_h-delta0, obj_h-delta0-down_pos[-1])\n",
    "    down_strain = np.linspace(0.,max_strain,len(down_stroke))\n",
    "    up_strain = np.linspace(max_strain, 0.,len(up_stroke))\n",
    "\n",
    "    up_stress=up_stroke*1e-3*g/obj_A\n",
    "    down_stress=down_stroke*1e-3*g/obj_A\n",
    "\n",
    "    #Simple Expression for Elastic Modulus, better by fitting a line to the center and take the slope \n",
    "    EM0=(down_stress[-1]-down_stress[0])/max_strain\n",
    "    with out2:\n",
    "        out2.clear_output(True)\n",
    "        plt.text(0,(down_stress[-1]-down_stress[0])/2.+down_stress[0],\"E={:5.1f}kPa\".format(EM0/1e3))\n",
    "        plt.plot(down_strain,down_stress,label='down');\n",
    "        plt.plot(up_strain,up_stress,label='up')\n",
    "        plt.legend()\n",
    "        plt.show()\n",
    "\n",
    "def save_measurement(b):\n",
    "    global g,obj_h, obj_A, delta0, peaks, xdata, ydata, xnp, ynp\n",
    "    \n",
    "    peak_i=w_sel_peak.value\n",
    "    deltaz=w_deltaz.value\n",
    "    nn=w_nn.value\n",
    "    rate=w_rate.value\n",
    "    speed=w_bspeed.value*rate\n",
    "    \n",
    "    with open(w_filename.value, 'wb') as f: \n",
    "        pickle.dump([peak_i, g, obj_h, obj_A, delta0, peaks, xdata, ydata, xnp, ynp,\\\n",
    "                     deltaz, nn, rate, speed ], f)\n",
    "    print('File '+w_filename.value+' saved as pkl file.')\n",
    "    \n",
    "\n",
    "def my_connect(newvalue):\n",
    "    global ser_s, ser_p\n",
    "    if (w_connect.value=='connect'):\n",
    "        try:\n",
    "            ser_s = serial.Serial(w_pscale.value, baudrate=115200, timeout=5) #scale\n",
    "            ser_p = serial.Serial(w_pzaxis.value, baudrate=115200, timeout=5) #printer\n",
    "            time.sleep(1)\n",
    "            connected = True\n",
    "            if ~ramps:\n",
    "                printer_init_marlin()\n",
    "                send_printer_marlin(b'M203 Z20\\r\\n') #increase maximum feedrate for z axis\n",
    "                send_printer_marlin(b'M107\\r\\n') #fan off \n",
    "                send_printer_marlin(b'G91\\r\\n') #relative positioning\n",
    "        except:\n",
    "            w_connect.value='disconnect'\n",
    "            connected=False\n",
    "            ser_s.close()\n",
    "            ser_p.close()\n",
    "            print(\"ERROR: couldn't open serial port.\")\n",
    "            time.sleep(1)\n",
    "            #reread serial ports\n",
    "            myserialports=serial_ports()\n",
    "            w_pscale.options=myserialports\n",
    "            w_pzaxis.options=myserialports\n",
    "            w_pscale.value=myserialports[-1]\n",
    "            w_pzaxis.value=myserialports[-2]\n",
    "\n",
    "    else:\n",
    "        ser_p.close()\n",
    "        ser_s.close()\n",
    "        connected = False\n",
    "\n",
    "def zaxis_ctrl(b):\n",
    "    cmd=''\n",
    "    if b.description=='Down 0.5 mm':\n",
    "        m=-0.5\n",
    "    if b.description=='Down 5 mm':\n",
    "        m=-5.\n",
    "    if b.description=='Up 0.5 mm':\n",
    "        m=0.5\n",
    "    if b.description=='Up 5 mm':\n",
    "        m=5.\n",
    "    if ~ramps:\n",
    "        cmd='G91; G0 Z{:4.1f} F100;'.format(m)\n",
    "    else:\n",
    "        cmd='$J=G91 Z{:4.1f} F100;'.format(m)\n",
    "    print_parser(cmd)\n",
    "\n",
    "def approach(b):\n",
    "    ser_s.write(b'*')  #Tare the scale\n",
    "    ser_s.flushOutput()\n",
    "    time.sleep(2) #stabilize the scale\n",
    "    m=-0.1\n",
    "    while True:\n",
    "        if ~ramps:\n",
    "            cmd='G91; G0 Z{:4.1f} F100'.format(m)\n",
    "        else:\n",
    "            cmd='$J=G91 Z{:4.1f} F100'.format(m)\n",
    "        print_parser(cmd)\n",
    "        time.sleep(.2)\n",
    "        k=np.array(read_scale(10)).mean()\n",
    "        w_a_label.value='Weight {:4.1f}g'.format(k)\n",
    "        if (k>w_triggerw.value):\n",
    "           break\n",
    "        \n",
    "        \n",
    "try:\n",
    "    myserialports\n",
    "except NameError:\n",
    "    myserialports=serial_ports()\n",
    "       \n",
    "w_pmove=[]\n",
    "w_connect=widgets.ToggleButtons(description='Devices:',\\\n",
    "                               options=['connect', 'disconnect'], value=\"disconnect\")\n",
    "w_pscale=widgets.Dropdown(options=myserialports,\\\n",
    "                         value=myserialports[-1], description='Scale:', disabled=False)\n",
    "w_pzaxis=widgets.Dropdown(options=myserialports,\\\n",
    "                         value=myserialports[-2], description='Zaxis:', disabled=False)\n",
    "w_connect.observe(my_connect, names='value')\n",
    "\n",
    "w_pmove.append(widgets.Button(description='Up 5 mm',button_style='warning'))\n",
    "w_pmove.append(widgets.Button(description='Up 0.5 mm',button_style='warning'))\n",
    "w_pmove.append(widgets.Button(description='Down 0.5 mm',button_style='warning'))\n",
    "w_pmove.append(widgets.Button(description='Down 5 mm',button_style='warning'))\n",
    "for b in w_pmove:\n",
    "    b.on_click(zaxis_ctrl)\n",
    "    \n",
    "\n",
    "style = {'description_width': 'initial'}\n",
    "w_nn=widgets.IntSlider(value=nn,min=5,max=50,description='Number of Moves:',style=style)\n",
    "w_rate=widgets.FloatSlider(value=rate,min=0.1,max=2,step=0.1,description='Frequency (Hz):',style=style)    \n",
    "w_deltaz=widgets.FloatSlider(value=deltaz,min=0.1,max=2,step=0.1,description='Delta Z (mm):',style=style)\n",
    "w_bspeed=widgets.IntSlider(value=bspeed,min=50,max=300,description='BSpeed (keep!):',style=style)\n",
    "w_triggerw=widgets.IntSlider(value=10,min=2,max=100,description='Trigger (g):',style=style)\n",
    "w_sel_peak=widgets.IntSlider(value=bspeed,min=1,max=50,description='Select Peak:',style=style)\n",
    "w_start=widgets.Button(description='Start Measurment',button_style='danger')\n",
    "w_start.on_click(start_measurement)\n",
    "w_analyse=widgets.Button(description='Analyse Measurment',button_style='info')\n",
    "w_analyse.on_click(analyse)\n",
    "w_filename=widgets.Text(description=\"Filename:\",placeholder='Enter your Filename');\n",
    "w_save=widgets.Button(description='Save Measurement',button_style='info')\n",
    "w_save.on_click(save_measurement)\n",
    "\n",
    "w_approach=widgets.Button(description='Do Approach',button_style='primary')\n",
    "w_approach.on_click(approach)\n",
    "w_a_label=widgets.Label('******************************')    \n",
    "\n",
    "out1 = widgets.Output()\n",
    "with out1:\n",
    "    plt.plot([0,10],[0,0])\n",
    "    plt.show()\n",
    "out2 = widgets.Output()\n",
    "with out1:\n",
    "    plt.plot([0,10],[0,0])\n",
    "    plt.show()\n",
    "\n",
    "    \n",
    "display.display(widgets.HBox([widgets.VBox([w_pscale,w_pzaxis]),w_connect]))\n",
    "display.display(widgets.HBox([widgets.VBox(w_pmove),\\\n",
    "                              widgets.VBox([w_nn,w_rate,w_deltaz,w_bspeed]),\\\n",
    "                              widgets.VBox([w_approach,w_triggerw,w_a_label])]))\n",
    "display.display(widgets.HBox([widgets.VBox([w_start,w_sel_peak,w_analyse,w_filename,w_save]),out1] ))\n",
    "display.display(out2)\n",
    "    \n"
   ]
  },
  {
   "cell_type": "code",
   "execution_count": null,
   "metadata": {},
   "outputs": [],
   "source": [
    "\n",
    "\n",
    "nn=10\n",
    "rate=.5 #frequency of up/down\n",
    "if ramps:\n",
    "    speed=140.*rate\n",
    "else:\n",
    "    speed=87.*rate\n",
    "deltaz=1.5\n",
    "\n",
    "if ~ramps:\n",
    "    send_printer_marlin('G1 F{:d}\\r\\n'.format(int(speed*deltaz)).encode())\n",
    "    \n",
    "#generate G-code to send to printer\n",
    "cmd=''\n",
    "for i in range(nn):\n",
    "    if ramps:\n",
    "        cmd +='$J=G91 Z{:4.1f}F{:4.0f};'.format(-deltaz, speed)\n",
    "        cmd +='$J=G91 Z{:4.1f}F{:4.0f};'.format(deltaz, speed)\n",
    "    else:\n",
    "        cmd +='G0 Z{:4.1f};'.format(-deltaz)\n",
    "        cmd +='G0 Z{:4.1f};'.format(deltaz)\n",
    "\n",
    "ser_s.write(b'*')  #Tare the scale\n",
    "ser_s.flushOutput()\n",
    "\n",
    "time.sleep(1) #stabilize the scale\n",
    "\n",
    "pt = threading.Thread(target=print_parser, args=(cmd,))\n",
    "pt.start()\n",
    "    \n",
    "%time y,x=read_scale_times(nn*deltaz/rate)\n",
    "#%time y,x=read_scale_times(nn/rate)"
   ]
  },
  {
   "cell_type": "code",
   "execution_count": null,
   "metadata": {
    "scrolled": false
   },
   "outputs": [],
   "source": [
    "\n",
    "import matplotlib.pyplot as plt\n",
    "import numpy as np\n",
    "from scipy.signal import find_peaks\n",
    "xnp=np.array(xdata,dtype=np.float32)\n",
    "ynp=np.array(ydata,dtype=np.float32)\n",
    "peaks, _ = find_peaks(ydata, height=ynp.max()/2., distance=len(ydata)/2./nn)\n",
    "plt.plot(xnp, ynp)\n",
    "for i in range(len(peaks)):\n",
    "    plt.text(xnp[peaks[i]], ynp[peaks[i]],str(i))"
   ]
  },
  {
   "cell_type": "code",
   "execution_count": null,
   "metadata": {},
   "outputs": [],
   "source": [
    "import scipy.integrate as integrate\n",
    "import matplotlib.pyplot as plt\n",
    "import numpy as np\n",
    "\n",
    "peak_i=-17#peak position to analyse\n",
    "g=9.81    #gravitational acceleration\n",
    "obj_h=23. #height in mm\n",
    "obj_A=np.pi*(13e-3)**2 #Area in m2\n",
    "delta0=2.5 #initial displacement in mm\n",
    "\n",
    "\n",
    "down_start_index=int(peaks[peak_i-1]+(peaks[peak_i]-peaks[peak_i-1])/2.)#find down start index\n",
    "down_end_index=peaks[peak_i]\n",
    "up_start_index=peaks[peak_i-1]\n",
    "down_stroke=ynp[down_start_index:down_end_index]\n",
    "up_stroke=ynp[up_start_index:down_start_index-1]\n",
    "down_pos=np.linspace(0,deltaz,len(down_stroke))\n",
    "up_pos=deltaz-np.linspace(0,deltaz,len(up_stroke))\n",
    "### Calculate strain \n",
    "max_strain,_ = integrate.quad(lambda xx: -1./xx, obj_h-delta0, obj_h-delta0-down_pos[-1])\n",
    "down_strain = np.linspace(0.,max_strain,len(down_stroke))\n",
    "up_strain = np.linspace(max_strain, 0.,len(up_stroke))\n",
    "\n",
    "up_stress=up_stroke*1e-3*g/obj_A\n",
    "down_stress=down_stroke*1e-3*g/obj_A\n",
    "\n",
    "#Simple Expression for Elastic Modulus, better by fitting a line to the center and take the slope \n",
    "EM0=(down_stress[-1]-down_stress[0])/max_strain\n",
    "plt.text(0,(down_stress[-1]-down_stress[0])/2.+down_stress[0],\"E={:5.1f}kPa\".format(EM0/1e3))\n",
    "plt.plot(down_strain,down_stress,label='down');\n",
    "plt.plot(up_strain,up_stress,label='up')\n",
    "plt.legend();\n",
    "\n"
   ]
  },
  {
   "cell_type": "code",
   "execution_count": null,
   "metadata": {
    "scrolled": false
   },
   "outputs": [],
   "source": [
    "import pickle\n",
    "\n",
    "with open('Gelatin15DecTue_4b%.pkl', 'wb') as f: \n",
    "    pickle.dump([peak_i, g, obj_h, obj_A, delta0, peaks, x, y, xnp, ynp,\\\n",
    "                 deltaz, nn, rate, speed ], f)\n"
   ]
  },
  {
   "cell_type": "code",
   "execution_count": null,
   "metadata": {},
   "outputs": [],
   "source": [
    "import pickle\n",
    "\n",
    "with open('PDMS20.pkl', 'rb') as f: \n",
    "    peak_i, g, obj_h, obj_A, delta0, peaks, x, y, xnp, ynp,\\\n",
    "                 deltaz, nn, rate, speed = pickle.load(f)"
   ]
  },
  {
   "cell_type": "code",
   "execution_count": null,
   "metadata": {},
   "outputs": [],
   "source": [
    "ramps=False\n",
    "if ~ramps:\n",
    "    print('False')"
   ]
  },
  {
   "cell_type": "code",
   "execution_count": null,
   "metadata": {},
   "outputs": [],
   "source": [
    "k=np.array(read_scale(10)).mean()"
   ]
  },
  {
   "cell_type": "code",
   "execution_count": null,
   "metadata": {},
   "outputs": [],
   "source": [
    "k=np.array(read_scale(10)).mean()\n",
    "print(k>10.)"
   ]
  },
  {
   "cell_type": "code",
   "execution_count": null,
   "metadata": {},
   "outputs": [],
   "source": [
    "trigger\n"
   ]
  },
  {
   "cell_type": "code",
   "execution_count": null,
   "metadata": {},
   "outputs": [],
   "source": [
    "w_deltaz.value"
   ]
  },
  {
   "cell_type": "code",
   "execution_count": null,
   "metadata": {},
   "outputs": [],
   "source": [
    "display.clear_output()"
   ]
  },
  {
   "cell_type": "code",
   "execution_count": null,
   "metadata": {},
   "outputs": [],
   "source": [
    "out.clear_output()"
   ]
  },
  {
   "cell_type": "code",
   "execution_count": null,
   "metadata": {},
   "outputs": [],
   "source": [
    "out.show()"
   ]
  },
  {
   "cell_type": "code",
   "execution_count": null,
   "metadata": {},
   "outputs": [],
   "source": [
    "peaks"
   ]
  },
  {
   "cell_type": "code",
   "execution_count": null,
   "metadata": {},
   "outputs": [],
   "source": [
    "peaks[-9]"
   ]
  },
  {
   "cell_type": "code",
   "execution_count": 11,
   "metadata": {},
   "outputs": [
    {
     "data": {
      "text/plain": [
       "0.5"
      ]
     },
     "execution_count": 11,
     "metadata": {},
     "output_type": "execute_result"
    }
   ],
   "source": [
    "nn=1\n",
    "nn/2."
   ]
  },
  {
   "cell_type": "code",
   "execution_count": null,
   "metadata": {},
   "outputs": [],
   "source": []
  }
 ],
 "metadata": {
  "kernelspec": {
   "display_name": "Python 3",
   "language": "python",
   "name": "python3"
  },
  "language_info": {
   "codemirror_mode": {
    "name": "ipython",
    "version": 3
   },
   "file_extension": ".py",
   "mimetype": "text/x-python",
   "name": "python",
   "nbconvert_exporter": "python",
   "pygments_lexer": "ipython3",
   "version": "3.7.3"
  }
 },
 "nbformat": 4,
 "nbformat_minor": 4
}
