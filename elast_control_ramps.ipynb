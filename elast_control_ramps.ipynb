{
 "cells": [
  {
   "cell_type": "code",
   "execution_count": 6,
   "metadata": {},
   "outputs": [],
   "source": [
    "from ipywidgets import widgets\n",
    "from ipywidgets import Layout\n",
    "from IPython import display\n",
    "\n",
    "import numpy as np\n",
    "import serial\n",
    "import time\n",
    "import sys\n",
    "import glob\n",
    "import io\n",
    "\n",
    "ramps=False\n",
    "\n",
    "def serial_ports():\n",
    "    if sys.platform.startswith('win'):\n",
    "        ports = ['COM%s' % (i + 1) for i in range(256)]\n",
    "    elif sys.platform.startswith('linux') or sys.platform.startswith('cygwin'):\n",
    "        # this excludes your current terminal \"/dev/tty\"\n",
    "        ports = glob.glob('/dev/tty[A-Za-z]*')\n",
    "    elif sys.platform.startswith('darwin'):\n",
    "        ports = glob.glob('/dev/tty.*')\n",
    "    else:\n",
    "        raise EnvironmentError('Unsupported platform')\n",
    "\n",
    "    result = []\n",
    "    for port in ports:\n",
    "        try:\n",
    "            s = serial.Serial(port)\n",
    "            s.close()\n",
    "            result.append(port)\n",
    "        except (OSError, serial.SerialException):\n",
    "            pass\n",
    "    return result\n",
    "\n",
    "def send_printer_ramps(cmd='', show=False):\n",
    "    global ser_p\n",
    "\n",
    "    ser_p.write(cmd)\n",
    "    out=ser_p.readline()\n",
    "    if out != '':\n",
    "        if show:\n",
    "            print(out)\n",
    "    return out\n",
    "\n",
    "def send_printer_marlin(cmd='', show=False):\n",
    "    global ser_p\n",
    "    \n",
    "    if not cmd == '':\n",
    "        ser_p.flushInput()\n",
    "        ser_p.write(cmd)\n",
    "        out = ser_p.readline().strip();\n",
    "    if show:\n",
    "        print(out)\n",
    "    return out\n",
    "\n",
    "def printer_init_marlin():\n",
    "    global ser_p\n",
    "    ser_p.write(b'G0\\n')\n",
    "    out=ser_p.readline().strip()\n",
    "    while (out != b'ok'):\n",
    "        ser_p.write(b'G0\\n')\n",
    "        out=ser_p.readline().strip()\n",
    "    \n",
    "def print_parser(cmdlines):\n",
    "    for line in cmdlines.split(';'):\n",
    "        if not (line== ''):\n",
    "            out=(line+'\\n').encode()\n",
    "            if ramps:\n",
    "                send_printer_ramps(out)\n",
    "            else:\n",
    "                send_printer_marlin(out)\n",
    "\n",
    "def read_scale(n):\n",
    "    ser_s.flushInput()\n",
    "    res=[ser_s.readline() for i in range(n)]\n",
    "    return [float(res[i].decode()) for i in range(len(res))]\n",
    "\n",
    "def read_scale_times(t_s=1.):\n",
    "    res=[]\n",
    "    res_t=[]\n",
    "    ser_s.flushInput()\n",
    "    start = time.time()\n",
    "\n",
    "    while (time.time()-start<=t_s):\n",
    "        res.append(ser_s.readline())\n",
    "        res_t.append(time.time()-start)\n",
    "    res=[float(res[i].decode()) for i in range(len(res))]\n",
    "    \n",
    "    return res,res_t\n",
    "    "
   ]
  },
  {
   "cell_type": "code",
   "execution_count": 5,
   "metadata": {},
   "outputs": [
    {
     "name": "stdout",
     "output_type": "stream",
     "text": [
      "checking for serial ports\n",
      "['/dev/tty.Bluetooth-Incoming-Port', '/dev/tty.usbserial-AK06SAI5', '/dev/tty.wchusbserial1420']\n"
     ]
    }
   ],
   "source": [
    "print('checking for serial ports')\n",
    "sports=serial_ports()\n",
    "print(sports)"
   ]
  },
  {
   "cell_type": "code",
   "execution_count": 9,
   "metadata": {},
   "outputs": [
    {
     "data": {
      "application/vnd.jupyter.widget-view+json": {
       "model_id": "0e19080b985d41fdb2d49defe6c156a0",
       "version_major": 2,
       "version_minor": 0
      },
      "text/plain": [
       "HBox(children=(VBox(children=(Dropdown(description='Scale:', index=2, options=('/dev/tty.Bluetooth-Incoming-Po…"
      ]
     },
     "metadata": {},
     "output_type": "display_data"
    }
   ],
   "source": [
    "def my_connect(newvalue):\n",
    "    global ser_s, ser_p\n",
    "    if (w_connect.value=='connect'):\n",
    "        try:\n",
    "            ser_s = serial.Serial(w_pscale.value, baudrate=115200, timeout=5) #scale\n",
    "            ser_p = serial.Serial(w_pzaxis.value, baudrate=115200, timeout=5) #printer\n",
    "            time.sleep(1)\n",
    "            connected = True\n",
    "        except:\n",
    "            w_connect.value='disconnect'\n",
    "            connected=False\n",
    "            ser_s.close()\n",
    "            ser_p.close()\n",
    "            print(\"ERROR: couldn't open serial port.\")\n",
    "            time.sleep(1)\n",
    "            #reread serial ports\n",
    "            myserialports=serial_ports()\n",
    "            w_pscale.options=myserialports\n",
    "            w_pzaxis.options=myserialports\n",
    "            w_pscale.value=myserialports[-1]\n",
    "            w_pzaxis.value=myserialports[-2]\n",
    "\n",
    "    else:\n",
    "        ser_p.close()\n",
    "        ser_s.close()\n",
    "        connected = False\n",
    "\n",
    "try:\n",
    "    myserialports\n",
    "except NameError:\n",
    "    myserialports=serial_ports()\n",
    "        \n",
    "w_connect=widgets.ToggleButtons(description='Devices:',\\\n",
    "                               options=['connect', 'disconnect'], value=\"disconnect\")\n",
    "w_pscale=widgets.Dropdown(options=myserialports,\\\n",
    "                         value=myserialports[-1], description='Scale:', disabled=False)\n",
    "w_pzaxis=widgets.Dropdown(options=myserialports,\\\n",
    "                         value=myserialports[-2], description='Zaxis:', disabled=False)\n",
    "w_connect.observe(my_connect, names='value')\n",
    "display.display(widgets.HBox([widgets.VBox([w_pscale,w_pzaxis]),w_connect]))"
   ]
  },
  {
   "cell_type": "code",
   "execution_count": 14,
   "metadata": {},
   "outputs": [],
   "source": [
    "if ~ramps:\n",
    "    printer_init_marlin()\n",
    "    send_printer_marlin(b'M203 Z20\\r\\n') #increase maximum feedrate for z axis\n",
    "    send_printer_marlin(b'M107\\r\\n') #fan off \n",
    "    send_printer_marlin(b'G91\\r\\n') #relative positioning"
   ]
  },
  {
   "cell_type": "code",
   "execution_count": 18,
   "metadata": {},
   "outputs": [
    {
     "ename": "ValueError",
     "evalue": "could not convert string to float: ",
     "output_type": "error",
     "traceback": [
      "\u001b[0;31m---------------------------------------------------------------------------\u001b[0m",
      "\u001b[0;31mValueError\u001b[0m                                Traceback (most recent call last)",
      "\u001b[0;32m<timed exec>\u001b[0m in \u001b[0;36m<module>\u001b[0;34m\u001b[0m\n",
      "\u001b[0;32m<ipython-input-6-e76a336c6148>\u001b[0m in \u001b[0;36mread_scale_times\u001b[0;34m(t_s)\u001b[0m\n\u001b[1;32m     85\u001b[0m         \u001b[0mres\u001b[0m\u001b[0;34m.\u001b[0m\u001b[0mappend\u001b[0m\u001b[0;34m(\u001b[0m\u001b[0mser_s\u001b[0m\u001b[0;34m.\u001b[0m\u001b[0mreadline\u001b[0m\u001b[0;34m(\u001b[0m\u001b[0;34m)\u001b[0m\u001b[0;34m)\u001b[0m\u001b[0;34m\u001b[0m\u001b[0;34m\u001b[0m\u001b[0m\n\u001b[1;32m     86\u001b[0m         \u001b[0mres_t\u001b[0m\u001b[0;34m.\u001b[0m\u001b[0mappend\u001b[0m\u001b[0;34m(\u001b[0m\u001b[0mtime\u001b[0m\u001b[0;34m.\u001b[0m\u001b[0mtime\u001b[0m\u001b[0;34m(\u001b[0m\u001b[0;34m)\u001b[0m\u001b[0;34m-\u001b[0m\u001b[0mstart\u001b[0m\u001b[0;34m)\u001b[0m\u001b[0;34m\u001b[0m\u001b[0;34m\u001b[0m\u001b[0m\n\u001b[0;32m---> 87\u001b[0;31m     \u001b[0mres\u001b[0m\u001b[0;34m=\u001b[0m\u001b[0;34m[\u001b[0m\u001b[0mfloat\u001b[0m\u001b[0;34m(\u001b[0m\u001b[0mres\u001b[0m\u001b[0;34m[\u001b[0m\u001b[0mi\u001b[0m\u001b[0;34m]\u001b[0m\u001b[0;34m.\u001b[0m\u001b[0mdecode\u001b[0m\u001b[0;34m(\u001b[0m\u001b[0;34m)\u001b[0m\u001b[0;34m)\u001b[0m \u001b[0;32mfor\u001b[0m \u001b[0mi\u001b[0m \u001b[0;32min\u001b[0m \u001b[0mrange\u001b[0m\u001b[0;34m(\u001b[0m\u001b[0mlen\u001b[0m\u001b[0;34m(\u001b[0m\u001b[0mres\u001b[0m\u001b[0;34m)\u001b[0m\u001b[0;34m)\u001b[0m\u001b[0;34m]\u001b[0m\u001b[0;34m\u001b[0m\u001b[0;34m\u001b[0m\u001b[0m\n\u001b[0m\u001b[1;32m     88\u001b[0m \u001b[0;34m\u001b[0m\u001b[0m\n\u001b[1;32m     89\u001b[0m     \u001b[0;32mreturn\u001b[0m \u001b[0mres\u001b[0m\u001b[0;34m,\u001b[0m\u001b[0mres_t\u001b[0m\u001b[0;34m\u001b[0m\u001b[0;34m\u001b[0m\u001b[0m\n",
      "\u001b[0;32m<ipython-input-6-e76a336c6148>\u001b[0m in \u001b[0;36m<listcomp>\u001b[0;34m(.0)\u001b[0m\n\u001b[1;32m     85\u001b[0m         \u001b[0mres\u001b[0m\u001b[0;34m.\u001b[0m\u001b[0mappend\u001b[0m\u001b[0;34m(\u001b[0m\u001b[0mser_s\u001b[0m\u001b[0;34m.\u001b[0m\u001b[0mreadline\u001b[0m\u001b[0;34m(\u001b[0m\u001b[0;34m)\u001b[0m\u001b[0;34m)\u001b[0m\u001b[0;34m\u001b[0m\u001b[0;34m\u001b[0m\u001b[0m\n\u001b[1;32m     86\u001b[0m         \u001b[0mres_t\u001b[0m\u001b[0;34m.\u001b[0m\u001b[0mappend\u001b[0m\u001b[0;34m(\u001b[0m\u001b[0mtime\u001b[0m\u001b[0;34m.\u001b[0m\u001b[0mtime\u001b[0m\u001b[0;34m(\u001b[0m\u001b[0;34m)\u001b[0m\u001b[0;34m-\u001b[0m\u001b[0mstart\u001b[0m\u001b[0;34m)\u001b[0m\u001b[0;34m\u001b[0m\u001b[0;34m\u001b[0m\u001b[0m\n\u001b[0;32m---> 87\u001b[0;31m     \u001b[0mres\u001b[0m\u001b[0;34m=\u001b[0m\u001b[0;34m[\u001b[0m\u001b[0mfloat\u001b[0m\u001b[0;34m(\u001b[0m\u001b[0mres\u001b[0m\u001b[0;34m[\u001b[0m\u001b[0mi\u001b[0m\u001b[0;34m]\u001b[0m\u001b[0;34m.\u001b[0m\u001b[0mdecode\u001b[0m\u001b[0;34m(\u001b[0m\u001b[0;34m)\u001b[0m\u001b[0;34m)\u001b[0m \u001b[0;32mfor\u001b[0m \u001b[0mi\u001b[0m \u001b[0;32min\u001b[0m \u001b[0mrange\u001b[0m\u001b[0;34m(\u001b[0m\u001b[0mlen\u001b[0m\u001b[0;34m(\u001b[0m\u001b[0mres\u001b[0m\u001b[0;34m)\u001b[0m\u001b[0;34m)\u001b[0m\u001b[0;34m]\u001b[0m\u001b[0;34m\u001b[0m\u001b[0;34m\u001b[0m\u001b[0m\n\u001b[0m\u001b[1;32m     88\u001b[0m \u001b[0;34m\u001b[0m\u001b[0m\n\u001b[1;32m     89\u001b[0m     \u001b[0;32mreturn\u001b[0m \u001b[0mres\u001b[0m\u001b[0;34m,\u001b[0m\u001b[0mres_t\u001b[0m\u001b[0;34m\u001b[0m\u001b[0;34m\u001b[0m\u001b[0m\n",
      "\u001b[0;31mValueError\u001b[0m: could not convert string to float: "
     ]
    }
   ],
   "source": [
    "import threading\n",
    "\n",
    "nn=10\n",
    "rate=.5 #frequency of up/down\n",
    "if ramps:\n",
    "    speed=140.*rate\n",
    "else:\n",
    "    speed=288.*rate\n",
    "deltaz=1.5\n",
    "\n",
    "if ~ramps:\n",
    "    send_printer_marlin('G1 F{:d}\\r\\n'.format(int(speed*deltaz)).encode())\n",
    "    \n",
    "#generate G-code to send to printer\n",
    "cmd=''\n",
    "for i in range(nn):\n",
    "    if ramps:\n",
    "        cmd +='$J=G91 Z{:4.1f}F{:4.0f};'.format(-deltaz, speed)\n",
    "        cmd +='$J=G91 Z{:4.1f}F{:4.0f};'.format(deltaz, speed)\n",
    "    else:\n",
    "        cmd +='G0 Z{:4.1f};'.format(-deltaz)\n",
    "        cmd +='G0 Z{:4.1f};'.format(deltaz)\n",
    "\n",
    "ser_s.write(b'*')  #Tare the scale\n",
    "ser_s.flushOutput()\n",
    "\n",
    "time.sleep(1) #stabilize the scale\n",
    "\n",
    "pt = threading.Thread(target=print_parser, args=(cmd,))\n",
    "pt.start()\n",
    "    \n",
    "#%time y,x=read_scale_times(nn*deltaz/rate)\n",
    "%time y,x=read_scale_times(nn/rate)"
   ]
  },
  {
   "cell_type": "code",
   "execution_count": 16,
   "metadata": {
    "scrolled": false
   },
   "outputs": [
    {
     "ename": "NameError",
     "evalue": "name 'x' is not defined",
     "output_type": "error",
     "traceback": [
      "\u001b[0;31m---------------------------------------------------------------------------\u001b[0m",
      "\u001b[0;31mNameError\u001b[0m                                 Traceback (most recent call last)",
      "\u001b[0;32m<ipython-input-16-ae428c7d694d>\u001b[0m in \u001b[0;36m<module>\u001b[0;34m\u001b[0m\n\u001b[1;32m      2\u001b[0m \u001b[0;32mimport\u001b[0m \u001b[0mnumpy\u001b[0m \u001b[0;32mas\u001b[0m \u001b[0mnp\u001b[0m\u001b[0;34m\u001b[0m\u001b[0;34m\u001b[0m\u001b[0m\n\u001b[1;32m      3\u001b[0m \u001b[0;32mfrom\u001b[0m \u001b[0mscipy\u001b[0m\u001b[0;34m.\u001b[0m\u001b[0msignal\u001b[0m \u001b[0;32mimport\u001b[0m \u001b[0mfind_peaks\u001b[0m\u001b[0;34m\u001b[0m\u001b[0;34m\u001b[0m\u001b[0m\n\u001b[0;32m----> 4\u001b[0;31m \u001b[0mxnp\u001b[0m\u001b[0;34m=\u001b[0m\u001b[0mnp\u001b[0m\u001b[0;34m.\u001b[0m\u001b[0marray\u001b[0m\u001b[0;34m(\u001b[0m\u001b[0mx\u001b[0m\u001b[0;34m,\u001b[0m\u001b[0mdtype\u001b[0m\u001b[0;34m=\u001b[0m\u001b[0mnp\u001b[0m\u001b[0;34m.\u001b[0m\u001b[0mfloat32\u001b[0m\u001b[0;34m)\u001b[0m\u001b[0;34m\u001b[0m\u001b[0;34m\u001b[0m\u001b[0m\n\u001b[0m\u001b[1;32m      5\u001b[0m \u001b[0mynp\u001b[0m\u001b[0;34m=\u001b[0m\u001b[0mnp\u001b[0m\u001b[0;34m.\u001b[0m\u001b[0marray\u001b[0m\u001b[0;34m(\u001b[0m\u001b[0my\u001b[0m\u001b[0;34m,\u001b[0m\u001b[0mdtype\u001b[0m\u001b[0;34m=\u001b[0m\u001b[0mnp\u001b[0m\u001b[0;34m.\u001b[0m\u001b[0mfloat32\u001b[0m\u001b[0;34m)\u001b[0m\u001b[0;34m\u001b[0m\u001b[0;34m\u001b[0m\u001b[0m\n\u001b[1;32m      6\u001b[0m \u001b[0mpeaks\u001b[0m\u001b[0;34m,\u001b[0m \u001b[0m_\u001b[0m \u001b[0;34m=\u001b[0m \u001b[0mfind_peaks\u001b[0m\u001b[0;34m(\u001b[0m\u001b[0my\u001b[0m\u001b[0;34m,\u001b[0m \u001b[0mheight\u001b[0m\u001b[0;34m=\u001b[0m\u001b[0mynp\u001b[0m\u001b[0;34m.\u001b[0m\u001b[0mmax\u001b[0m\u001b[0;34m(\u001b[0m\u001b[0;34m)\u001b[0m\u001b[0;34m/\u001b[0m\u001b[0;36m2.\u001b[0m\u001b[0;34m,\u001b[0m \u001b[0mdistance\u001b[0m\u001b[0;34m=\u001b[0m\u001b[0mlen\u001b[0m\u001b[0;34m(\u001b[0m\u001b[0my\u001b[0m\u001b[0;34m)\u001b[0m\u001b[0;34m/\u001b[0m\u001b[0;36m2.\u001b[0m\u001b[0;34m/\u001b[0m\u001b[0mnn\u001b[0m\u001b[0;34m)\u001b[0m\u001b[0;34m\u001b[0m\u001b[0;34m\u001b[0m\u001b[0m\n",
      "\u001b[0;31mNameError\u001b[0m: name 'x' is not defined"
     ]
    }
   ],
   "source": [
    "import matplotlib.pyplot as plt\n",
    "import numpy as np\n",
    "from scipy.signal import find_peaks\n",
    "xnp=np.array(x,dtype=np.float32)\n",
    "ynp=np.array(y,dtype=np.float32)\n",
    "peaks, _ = find_peaks(y, height=ynp.max()/2., distance=len(y)/2./nn)\n",
    "plt.plot(xnp, ynp)\n",
    "for i in range(len(peaks)):\n",
    "    plt.text(xnp[peaks[i]], ynp[peaks[i]],str(i))"
   ]
  },
  {
   "cell_type": "code",
   "execution_count": 112,
   "metadata": {},
   "outputs": [
    {
     "data": {
      "image/png": "[encoded data removed]",
      "text/plain": [
       "<Figure size 432x288 with 1 Axes>"
      ]
     },
     "metadata": {
      "needs_background": "light"
     },
     "output_type": "display_data"
    }
   ],
   "source": [
    "import scipy.integrate as integrate\n",
    "import matplotlib.pyplot as plt\n",
    "import numpy as np\n",
    "\n",
    "peak_i=-17#peak position to analyse\n",
    "g=9.81    #gravitational acceleration\n",
    "obj_h=23. #height in mm\n",
    "obj_A=np.pi*(13e-3)**2 #Area in m2\n",
    "delta0=2.5 #initial displacement in mm\n",
    "\n",
    "\n",
    "down_start_index=int(peaks[peak_i-1]+(peaks[peak_i]-peaks[peak_i-1])/2.)#find down start index\n",
    "down_end_index=peaks[peak_i]\n",
    "up_start_index=peaks[peak_i-1]\n",
    "down_stroke=ynp[down_start_index:down_end_index]\n",
    "up_stroke=ynp[up_start_index:down_start_index-1]\n",
    "down_pos=np.linspace(0,deltaz,len(down_stroke))\n",
    "up_pos=deltaz-np.linspace(0,deltaz,len(up_stroke))\n",
    "### Calculate strain \n",
    "max_strain,_ = integrate.quad(lambda xx: -1./xx, obj_h-delta0, obj_h-delta0-down_pos[-1])\n",
    "down_strain = np.linspace(0.,max_strain,len(down_stroke))\n",
    "up_strain = np.linspace(max_strain, 0.,len(up_stroke))\n",
    "\n",
    "up_stress=up_stroke*1e-3*g/obj_A\n",
    "down_stress=down_stroke*1e-3*g/obj_A\n",
    "\n",
    "#Simple Expression for Elastic Modulus, better by fitting a line to the center and take the slope \n",
    "EM0=(down_stress[-1]-down_stress[0])/max_strain\n",
    "plt.text(0,(down_stress[-1]-down_stress[0])/2.+down_stress[0],\"E={:5.1f}kPa\".format(EM0/1e3))\n",
    "plt.plot(down_strain,down_stress,label='down');\n",
    "plt.plot(up_strain,up_stress,label='up')\n",
    "plt.legend();\n",
    "\n"
   ]
  },
  {
   "cell_type": "code",
   "execution_count": 113,
   "metadata": {
    "scrolled": false
   },
   "outputs": [],
   "source": [
    "import pickle\n",
    "\n",
    "with open('Gelatin15DecTue_4b%.pkl', 'wb') as f: \n",
    "    pickle.dump([peak_i, g, obj_h, obj_A, delta0, peaks, x, y, xnp, ynp,\\\n",
    "                 deltaz, nn, rate, speed ], f)\n"
   ]
  },
  {
   "cell_type": "code",
   "execution_count": 3,
   "metadata": {},
   "outputs": [],
   "source": [
    "import pickle\n",
    "\n",
    "with open('PDMS20.pkl', 'rb') as f: \n",
    "    peak_i, g, obj_h, obj_A, delta0, peaks, x, y, xnp, ynp,\\\n",
    "                 deltaz, nn, rate, speed = pickle.load(f)"
   ]
  },
  {
   "cell_type": "code",
   "execution_count": 2,
   "metadata": {},
   "outputs": [
    {
     "name": "stdout",
     "output_type": "stream",
     "text": [
      "False\n"
     ]
    }
   ],
   "source": [
    "ramps=False\n",
    "if ~ramps:\n",
    "    print('False')"
   ]
  },
  {
   "cell_type": "code",
   "execution_count": 20,
   "metadata": {},
   "outputs": [
    {
     "ename": "ValueError",
     "evalue": "could not convert string to float: ",
     "output_type": "error",
     "traceback": [
      "\u001b[0;31m---------------------------------------------------------------------------\u001b[0m",
      "\u001b[0;31mValueError\u001b[0m                                Traceback (most recent call last)",
      "\u001b[0;32m<ipython-input-20-19d74dbdb5fc>\u001b[0m in \u001b[0;36m<module>\u001b[0;34m\u001b[0m\n\u001b[0;32m----> 1\u001b[0;31m \u001b[0mread_scale\u001b[0m\u001b[0;34m(\u001b[0m\u001b[0;36m1\u001b[0m\u001b[0;34m)\u001b[0m\u001b[0;34m\u001b[0m\u001b[0;34m\u001b[0m\u001b[0m\n\u001b[0m",
      "\u001b[0;32m<ipython-input-6-e76a336c6148>\u001b[0m in \u001b[0;36mread_scale\u001b[0;34m(n)\u001b[0m\n\u001b[1;32m     74\u001b[0m     \u001b[0mser_s\u001b[0m\u001b[0;34m.\u001b[0m\u001b[0mflushInput\u001b[0m\u001b[0;34m(\u001b[0m\u001b[0;34m)\u001b[0m\u001b[0;34m\u001b[0m\u001b[0;34m\u001b[0m\u001b[0m\n\u001b[1;32m     75\u001b[0m     \u001b[0mres\u001b[0m\u001b[0;34m=\u001b[0m\u001b[0;34m[\u001b[0m\u001b[0mser_s\u001b[0m\u001b[0;34m.\u001b[0m\u001b[0mreadline\u001b[0m\u001b[0;34m(\u001b[0m\u001b[0;34m)\u001b[0m \u001b[0;32mfor\u001b[0m \u001b[0mi\u001b[0m \u001b[0;32min\u001b[0m \u001b[0mrange\u001b[0m\u001b[0;34m(\u001b[0m\u001b[0mn\u001b[0m\u001b[0;34m)\u001b[0m\u001b[0;34m]\u001b[0m\u001b[0;34m\u001b[0m\u001b[0;34m\u001b[0m\u001b[0m\n\u001b[0;32m---> 76\u001b[0;31m     \u001b[0;32mreturn\u001b[0m \u001b[0;34m[\u001b[0m\u001b[0mfloat\u001b[0m\u001b[0;34m(\u001b[0m\u001b[0mres\u001b[0m\u001b[0;34m[\u001b[0m\u001b[0mi\u001b[0m\u001b[0;34m]\u001b[0m\u001b[0;34m.\u001b[0m\u001b[0mdecode\u001b[0m\u001b[0;34m(\u001b[0m\u001b[0;34m)\u001b[0m\u001b[0;34m)\u001b[0m \u001b[0;32mfor\u001b[0m \u001b[0mi\u001b[0m \u001b[0;32min\u001b[0m \u001b[0mrange\u001b[0m\u001b[0;34m(\u001b[0m\u001b[0mlen\u001b[0m\u001b[0;34m(\u001b[0m\u001b[0mres\u001b[0m\u001b[0;34m)\u001b[0m\u001b[0;34m)\u001b[0m\u001b[0;34m]\u001b[0m\u001b[0;34m\u001b[0m\u001b[0;34m\u001b[0m\u001b[0m\n\u001b[0m\u001b[1;32m     77\u001b[0m \u001b[0;34m\u001b[0m\u001b[0m\n\u001b[1;32m     78\u001b[0m \u001b[0;32mdef\u001b[0m \u001b[0mread_scale_times\u001b[0m\u001b[0;34m(\u001b[0m\u001b[0mt_s\u001b[0m\u001b[0;34m=\u001b[0m\u001b[0;36m1.\u001b[0m\u001b[0;34m)\u001b[0m\u001b[0;34m:\u001b[0m\u001b[0;34m\u001b[0m\u001b[0;34m\u001b[0m\u001b[0m\n",
      "\u001b[0;32m<ipython-input-6-e76a336c6148>\u001b[0m in \u001b[0;36m<listcomp>\u001b[0;34m(.0)\u001b[0m\n\u001b[1;32m     74\u001b[0m     \u001b[0mser_s\u001b[0m\u001b[0;34m.\u001b[0m\u001b[0mflushInput\u001b[0m\u001b[0;34m(\u001b[0m\u001b[0;34m)\u001b[0m\u001b[0;34m\u001b[0m\u001b[0;34m\u001b[0m\u001b[0m\n\u001b[1;32m     75\u001b[0m     \u001b[0mres\u001b[0m\u001b[0;34m=\u001b[0m\u001b[0;34m[\u001b[0m\u001b[0mser_s\u001b[0m\u001b[0;34m.\u001b[0m\u001b[0mreadline\u001b[0m\u001b[0;34m(\u001b[0m\u001b[0;34m)\u001b[0m \u001b[0;32mfor\u001b[0m \u001b[0mi\u001b[0m \u001b[0;32min\u001b[0m \u001b[0mrange\u001b[0m\u001b[0;34m(\u001b[0m\u001b[0mn\u001b[0m\u001b[0;34m)\u001b[0m\u001b[0;34m]\u001b[0m\u001b[0;34m\u001b[0m\u001b[0;34m\u001b[0m\u001b[0m\n\u001b[0;32m---> 76\u001b[0;31m     \u001b[0;32mreturn\u001b[0m \u001b[0;34m[\u001b[0m\u001b[0mfloat\u001b[0m\u001b[0;34m(\u001b[0m\u001b[0mres\u001b[0m\u001b[0;34m[\u001b[0m\u001b[0mi\u001b[0m\u001b[0;34m]\u001b[0m\u001b[0;34m.\u001b[0m\u001b[0mdecode\u001b[0m\u001b[0;34m(\u001b[0m\u001b[0;34m)\u001b[0m\u001b[0;34m)\u001b[0m \u001b[0;32mfor\u001b[0m \u001b[0mi\u001b[0m \u001b[0;32min\u001b[0m \u001b[0mrange\u001b[0m\u001b[0;34m(\u001b[0m\u001b[0mlen\u001b[0m\u001b[0;34m(\u001b[0m\u001b[0mres\u001b[0m\u001b[0;34m)\u001b[0m\u001b[0;34m)\u001b[0m\u001b[0;34m]\u001b[0m\u001b[0;34m\u001b[0m\u001b[0;34m\u001b[0m\u001b[0m\n\u001b[0m\u001b[1;32m     77\u001b[0m \u001b[0;34m\u001b[0m\u001b[0m\n\u001b[1;32m     78\u001b[0m \u001b[0;32mdef\u001b[0m \u001b[0mread_scale_times\u001b[0m\u001b[0;34m(\u001b[0m\u001b[0mt_s\u001b[0m\u001b[0;34m=\u001b[0m\u001b[0;36m1.\u001b[0m\u001b[0;34m)\u001b[0m\u001b[0;34m:\u001b[0m\u001b[0;34m\u001b[0m\u001b[0;34m\u001b[0m\u001b[0m\n",
      "\u001b[0;31mValueError\u001b[0m: could not convert string to float: "
     ]
    }
   ],
   "source": [
    "read_scale(1)"
   ]
  },
  {
   "cell_type": "code",
   "execution_count": null,
   "metadata": {},
   "outputs": [],
   "source": []
  }
 ],
 "metadata": {
  "kernelspec": {
   "display_name": "Python [conda env:mypython3]",
   "language": "python",
   "name": "conda-env-mypython3-py"
  },
  "language_info": {
   "codemirror_mode": {
    "name": "ipython",
    "version": 3
   },
   "file_extension": ".py",
   "mimetype": "text/x-python",
   "name": "python",
   "nbconvert_exporter": "python",
   "pygments_lexer": "ipython3",
   "version": "3.7.3"
  }
 },
 "nbformat": 4,
 "nbformat_minor": 4
}
